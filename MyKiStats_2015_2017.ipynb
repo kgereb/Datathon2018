{
 "cells": [
  {
   "cell_type": "code",
   "execution_count": 17,
   "metadata": {},
   "outputs": [
    {
     "name": "stdout",
     "output_type": "stream",
     "text": [
      "['2015/Week28/file28.txt']\n",
      "['2015/Week29/file29.txt']\n",
      "appended 1253313\n",
      "['2015/Week30/file30.txt']\n",
      "appended 1954933\n",
      "['2016/Week28/file28.txt']\n",
      "['2016/Week29/file29.txt']\n",
      "appended 1272475\n",
      "['2016/Week30/file30.txt']\n",
      "appended 1969697\n",
      "['2017/Week28/file28.txt']\n",
      "['2017/Week29/file29.txt']\n",
      "appended 1347648\n",
      "['2017/Week30/file30.txt']\n",
      "appended 2087596\n"
     ]
    }
   ],
   "source": [
    "import pandas as pd\n",
    "import matplotlib \n",
    "from matplotlib import pyplot as plt\n",
    "import numpy as np\n",
    "import csv\n",
    "import glob\n",
    "import gzip\n",
    "import shutil\n",
    "\n",
    "def Read_Data(WeekNumber, Year):\n",
    "      columns=[\"Mode\", \"Date\", \"DateTime\", \"CardID\", \"CardType\", \"VehicleID\",\n",
    "                   \"ParentRoute\", \"RouteID\", \"StopID\"] \n",
    "      fname = glob.glob(Year + '/Week%s' %WeekNumber + \"/*.txt\")\n",
    "      print(fname)\n",
    "      dataset = pd.read_csv(fname[0], sep=\"|\", names=columns)\n",
    "      return dataset\n",
    "\n",
    "    \n",
    "def Append_data(Year, FirstWeek, LastWeek):\n",
    "    basic_table = Read_Data(FirstWeek, Year)\n",
    "    for i in range(FirstWeek+1, LastWeek+1):\n",
    "          Actual_Table    = Read_Data(i, Year)\n",
    "          basic_table     = basic_table.append(Actual_Table) \n",
    "          print('appended', len(basic_table))\n",
    "    return basic_table   \n",
    "    \n",
    "# we only read in weeks 28 - 52 for all datasets, so they are consistent \n",
    "dataset_2015 = Append_data(\"2015\", 28,52)#52\n",
    "dataset_2016 = Append_data(\"2016\", 28,52)\n",
    "dataset_2017 = Append_data(\"2017\", 28,52)\n"
   ]
  },
  {
   "cell_type": "code",
   "execution_count": 15,
   "metadata": {},
   "outputs": [],
   "source": [
    "def group(mydata):  \n",
    "    # how many touch-ons belong to each CardID\n",
    "    mydata_touchOns = mydata.groupby(\"CardID\").DateTime.count().reset_index()\n",
    "    return mydata_touchOns\n",
    "    \n",
    "dataset_2015_grouped = group(dataset_2015)\n",
    "dataset_2016_grouped = group(dataset_2016)\n",
    "dataset_2017_grouped = group(dataset_2017)"
   ]
  },
  {
   "cell_type": "code",
   "execution_count": 16,
   "metadata": {},
   "outputs": [
    {
     "name": "stderr",
     "output_type": "stream",
     "text": [
      "/anaconda3/lib/python3.6/site-packages/matplotlib/axes/_axes.py:6462: UserWarning: The 'normed' kwarg is deprecated, and has been replaced by the 'density' kwarg.\n",
      "  warnings.warn(\"The 'normed' kwarg is deprecated, and has been \"\n"
     ]
    },
    {
     "data": {
      "image/png": "[encoded data removed]",
      "text/plain": [
       "<Figure size 432x288 with 1 Axes>"
      ]
     },
     "metadata": {},
     "output_type": "display_data"
    }
   ],
   "source": [
    "plt.hist(dataset_2015_grouped.DateTime, bins=100, label='2015', color = 'grey', normed = True, histtype = 'step')\n",
    "plt.hist(dataset_2016_grouped.DateTime, bins=100,label='2016', color = 'blue', normed = True, histtype = 'step')\n",
    "plt.hist(dataset_2017_grouped.DateTime, bins=100, label='2017', color = 'green', normed = True, histtype = 'step')\n",
    "\n",
    "plt.title('Myki usage 2015-2017 (July-Dec)',fontsize=18)\n",
    "plt.xlabel('Nr of touch-ons',fontsize=18)\n",
    "plt.legend()\n",
    "plt.yscale('log')\n",
    "plt.ylabel('Nr of customers',fontsize=18)\n",
    "#plt.savefig(\"MykiUsage_2015_2017.png\")\n",
    "plt.show()"
   ]
  },
  {
   "cell_type": "code",
   "execution_count": null,
   "metadata": {},
   "outputs": [],
   "source": []
  }
 ],
 "metadata": {
  "kernelspec": {
   "display_name": "Python 3",
   "language": "python",
   "name": "python3"
  },
  "language_info": {
   "codemirror_mode": {
    "name": "ipython",
    "version": 3
   },
   "file_extension": ".py",
   "mimetype": "text/x-python",
   "name": "python",
   "nbconvert_exporter": "python",
   "pygments_lexer": "ipython3",
   "version": "3.6.5"
  }
 },
 "nbformat": 4,
 "nbformat_minor": 2
}
